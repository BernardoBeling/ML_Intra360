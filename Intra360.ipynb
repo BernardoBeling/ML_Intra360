{
 "cells": [
  {
   "cell_type": "code",
   "execution_count": 1,
   "id": "779002bc-632c-4f38-9dee-5bd587ed3184",
   "metadata": {},
   "outputs": [],
   "source": [
    "import pandas as pd\n",
    "import numpy as np\n",
    "from sklearn.preprocessing import LabelBinarizer\n",
    "\n",
    "full_data = pd.read_csv(\"Files/intraDataFile1F.csv\", index_col=False)\n",
    "\n",
    "#Cleaning cells\n",
    "full_data = full_data.mask(full_data < 0, np.nan) #set -1 values to NaN"
   ]
  },
  {
   "cell_type": "markdown",
   "id": "e88b3fd0-2d2d-403c-9a16-3e21a4e02ceb",
   "metadata": {},
   "source": [
    "# Engenharia de Atributos"
   ]
  },
  {
   "cell_type": "code",
   "execution_count": 2,
   "id": "589d9aa7-3e04-4b9e-afd9-d875bc2ef896",
   "metadata": {},
   "outputs": [],
   "source": [
    "mod_data = full_data\n",
    "\n",
    "#Changing Pos values\n",
    "\n",
    "mod_data[['PosY']] = (mod_data[['PosY']]/mod_data[['PosY']].max())\n",
    "mod_data[['PosX']] = (mod_data[['PosX']]/mod_data[['PosX']].max())\n",
    "\n",
    "#Extracting categorical features\n",
    "\n",
    "data = full_data[['BestMode']] \n",
    "\n",
    "for dta in data:\n",
    "    cod = LabelBinarizer()\n",
    "    cod.fit(data[dta])\n",
    "    \n",
    "    #generate header column list\n",
    "    classes = cod.classes_.tolist() \n",
    "    column_name = []\n",
    "    for num in classes:\n",
    "        column_name.append(dta + str(num))\n",
    "        \n",
    "    binarized = cod.transform(data[dta])    \n",
    "    onehot = pd.DataFrame(binarized, columns=list(column_name)) #create DF with binarized features headers             \n",
    "    mod_data = pd.concat([mod_data,onehot], axis=1).drop([dta], axis=1)  "
   ]
  },
  {
   "cell_type": "code",
   "execution_count": 3,
   "id": "9b6cfafd-4582-463c-808e-0395b5c18440",
   "metadata": {},
   "outputs": [],
   "source": [
    "mod_data.to_csv(\"Files/modIntraData.csv\")"
   ]
  },
  {
   "cell_type": "markdown",
   "id": "4b778083-4942-4f88-9e86-0a7235f3d7c1",
   "metadata": {
    "tags": []
   },
   "source": [
    "# Modelo DC/PLANAR\n",
    "\n",
    "- RMD list weights: Max(score DC/Planar), where score is 8, 7, 6, ..., 1  (min 8,7,6)\n",
    "- MPM list weights: DC/Planar modes count, i.e., 0 | 1 | 2\n",
    "- RMD costs: Min (DC cost, Planar cost)\n",
    "- Label: isBestMode (boolean), i.e., if DC/Planar"
   ]
  },
  {
   "cell_type": "code",
   "execution_count": 4,
   "id": "ee49829c-a4b5-4b1f-8d9f-c2ef66d1aa12",
   "metadata": {
    "tags": []
   },
   "outputs": [
    {
     "data": {
      "text/html": [
       "<div>\n",
       "<style scoped>\n",
       "    .dataframe tbody tr th:only-of-type {\n",
       "        vertical-align: middle;\n",
       "    }\n",
       "\n",
       "    .dataframe tbody tr th {\n",
       "        vertical-align: top;\n",
       "    }\n",
       "\n",
       "    .dataframe thead th {\n",
       "        text-align: right;\n",
       "    }\n",
       "</style>\n",
       "<table border=\"1\" class=\"dataframe\">\n",
       "  <thead>\n",
       "    <tr style=\"text-align: right;\">\n",
       "      <th></th>\n",
       "      <th>PosY</th>\n",
       "      <th>PosX</th>\n",
       "      <th>Size</th>\n",
       "      <th>BestModeCost</th>\n",
       "      <th>Variance</th>\n",
       "      <th>AboveCost</th>\n",
       "      <th>LeftCost</th>\n",
       "      <th>AboveLeftCost</th>\n",
       "      <th>AboveRightCost</th>\n",
       "      <th>MPMWeight</th>\n",
       "      <th>RMDWeight</th>\n",
       "      <th>M1RMDCost</th>\n",
       "      <th>isBestMode</th>\n",
       "    </tr>\n",
       "  </thead>\n",
       "  <tbody>\n",
       "    <tr>\n",
       "      <th>0</th>\n",
       "      <td>0.0</td>\n",
       "      <td>0.0</td>\n",
       "      <td>0</td>\n",
       "      <td>11891.300</td>\n",
       "      <td>32.703400</td>\n",
       "      <td>1365.821196</td>\n",
       "      <td>1357.967226</td>\n",
       "      <td>1361.747867</td>\n",
       "      <td>1340.753945</td>\n",
       "      <td>2</td>\n",
       "      <td>8</td>\n",
       "      <td>11891.300</td>\n",
       "      <td>True</td>\n",
       "    </tr>\n",
       "    <tr>\n",
       "      <th>1</th>\n",
       "      <td>0.0</td>\n",
       "      <td>0.0</td>\n",
       "      <td>1</td>\n",
       "      <td>3976.420</td>\n",
       "      <td>40.139400</td>\n",
       "      <td>1365.821196</td>\n",
       "      <td>1357.967226</td>\n",
       "      <td>1361.747867</td>\n",
       "      <td>1340.753945</td>\n",
       "      <td>2</td>\n",
       "      <td>8</td>\n",
       "      <td>3976.420</td>\n",
       "      <td>True</td>\n",
       "    </tr>\n",
       "    <tr>\n",
       "      <th>2</th>\n",
       "      <td>0.0</td>\n",
       "      <td>0.0</td>\n",
       "      <td>2</td>\n",
       "      <td>1871.340</td>\n",
       "      <td>6.211760</td>\n",
       "      <td>1365.821196</td>\n",
       "      <td>1357.967226</td>\n",
       "      <td>1361.747867</td>\n",
       "      <td>1340.753945</td>\n",
       "      <td>2</td>\n",
       "      <td>8</td>\n",
       "      <td>1871.340</td>\n",
       "      <td>True</td>\n",
       "    </tr>\n",
       "    <tr>\n",
       "      <th>3</th>\n",
       "      <td>0.0</td>\n",
       "      <td>0.0</td>\n",
       "      <td>3</td>\n",
       "      <td>1116.260</td>\n",
       "      <td>0.190476</td>\n",
       "      <td>1365.821196</td>\n",
       "      <td>1357.967226</td>\n",
       "      <td>1361.747867</td>\n",
       "      <td>1340.753945</td>\n",
       "      <td>2</td>\n",
       "      <td>8</td>\n",
       "      <td>1116.260</td>\n",
       "      <td>True</td>\n",
       "    </tr>\n",
       "    <tr>\n",
       "      <th>4</th>\n",
       "      <td>0.0</td>\n",
       "      <td>0.0</td>\n",
       "      <td>4</td>\n",
       "      <td>2289.080</td>\n",
       "      <td>0.190476</td>\n",
       "      <td>1365.821196</td>\n",
       "      <td>1357.967226</td>\n",
       "      <td>1361.747867</td>\n",
       "      <td>1340.753945</td>\n",
       "      <td>2</td>\n",
       "      <td>8</td>\n",
       "      <td>2289.080</td>\n",
       "      <td>True</td>\n",
       "    </tr>\n",
       "    <tr>\n",
       "      <th>...</th>\n",
       "      <td>...</td>\n",
       "      <td>...</td>\n",
       "      <td>...</td>\n",
       "      <td>...</td>\n",
       "      <td>...</td>\n",
       "      <td>...</td>\n",
       "      <td>...</td>\n",
       "      <td>...</td>\n",
       "      <td>...</td>\n",
       "      <td>...</td>\n",
       "      <td>...</td>\n",
       "      <td>...</td>\n",
       "      <td>...</td>\n",
       "    </tr>\n",
       "    <tr>\n",
       "      <th>461027</th>\n",
       "      <td>1.0</td>\n",
       "      <td>1.0</td>\n",
       "      <td>3</td>\n",
       "      <td>278.817</td>\n",
       "      <td>5.015870</td>\n",
       "      <td>578.542000</td>\n",
       "      <td>226.817000</td>\n",
       "      <td>1068.900000</td>\n",
       "      <td>1340.753945</td>\n",
       "      <td>1</td>\n",
       "      <td>2</td>\n",
       "      <td>528.725</td>\n",
       "      <td>False</td>\n",
       "    </tr>\n",
       "    <tr>\n",
       "      <th>461028</th>\n",
       "      <td>1.0</td>\n",
       "      <td>1.0</td>\n",
       "      <td>4</td>\n",
       "      <td>447.359</td>\n",
       "      <td>5.015870</td>\n",
       "      <td>235.817000</td>\n",
       "      <td>157.817000</td>\n",
       "      <td>144.817000</td>\n",
       "      <td>235.817000</td>\n",
       "      <td>1</td>\n",
       "      <td>6</td>\n",
       "      <td>513.267</td>\n",
       "      <td>False</td>\n",
       "    </tr>\n",
       "    <tr>\n",
       "      <th>461029</th>\n",
       "      <td>1.0</td>\n",
       "      <td>1.0</td>\n",
       "      <td>4</td>\n",
       "      <td>159.817</td>\n",
       "      <td>5.015870</td>\n",
       "      <td>235.817000</td>\n",
       "      <td>447.359000</td>\n",
       "      <td>235.817000</td>\n",
       "      <td>429.359000</td>\n",
       "      <td>1</td>\n",
       "      <td>6</td>\n",
       "      <td>226.725</td>\n",
       "      <td>False</td>\n",
       "    </tr>\n",
       "    <tr>\n",
       "      <th>461030</th>\n",
       "      <td>1.0</td>\n",
       "      <td>1.0</td>\n",
       "      <td>4</td>\n",
       "      <td>142.817</td>\n",
       "      <td>5.015870</td>\n",
       "      <td>447.359000</td>\n",
       "      <td>134.817000</td>\n",
       "      <td>157.817000</td>\n",
       "      <td>159.817000</td>\n",
       "      <td>0</td>\n",
       "      <td>0</td>\n",
       "      <td>226.725</td>\n",
       "      <td>False</td>\n",
       "    </tr>\n",
       "    <tr>\n",
       "      <th>461031</th>\n",
       "      <td>1.0</td>\n",
       "      <td>1.0</td>\n",
       "      <td>4</td>\n",
       "      <td>156.817</td>\n",
       "      <td>5.015870</td>\n",
       "      <td>159.817000</td>\n",
       "      <td>142.817000</td>\n",
       "      <td>447.359000</td>\n",
       "      <td>201.725000</td>\n",
       "      <td>0</td>\n",
       "      <td>0</td>\n",
       "      <td>226.725</td>\n",
       "      <td>False</td>\n",
       "    </tr>\n",
       "  </tbody>\n",
       "</table>\n",
       "<p>461032 rows × 13 columns</p>\n",
       "</div>"
      ],
      "text/plain": [
       "        PosY  PosX  Size  BestModeCost   Variance    AboveCost     LeftCost  \\\n",
       "0        0.0   0.0     0     11891.300  32.703400  1365.821196  1357.967226   \n",
       "1        0.0   0.0     1      3976.420  40.139400  1365.821196  1357.967226   \n",
       "2        0.0   0.0     2      1871.340   6.211760  1365.821196  1357.967226   \n",
       "3        0.0   0.0     3      1116.260   0.190476  1365.821196  1357.967226   \n",
       "4        0.0   0.0     4      2289.080   0.190476  1365.821196  1357.967226   \n",
       "...      ...   ...   ...           ...        ...          ...          ...   \n",
       "461027   1.0   1.0     3       278.817   5.015870   578.542000   226.817000   \n",
       "461028   1.0   1.0     4       447.359   5.015870   235.817000   157.817000   \n",
       "461029   1.0   1.0     4       159.817   5.015870   235.817000   447.359000   \n",
       "461030   1.0   1.0     4       142.817   5.015870   447.359000   134.817000   \n",
       "461031   1.0   1.0     4       156.817   5.015870   159.817000   142.817000   \n",
       "\n",
       "        AboveLeftCost  AboveRightCost  MPMWeight  RMDWeight  M1RMDCost  \\\n",
       "0         1361.747867     1340.753945          2          8  11891.300   \n",
       "1         1361.747867     1340.753945          2          8   3976.420   \n",
       "2         1361.747867     1340.753945          2          8   1871.340   \n",
       "3         1361.747867     1340.753945          2          8   1116.260   \n",
       "4         1361.747867     1340.753945          2          8   2289.080   \n",
       "...               ...             ...        ...        ...        ...   \n",
       "461027    1068.900000     1340.753945          1          2    528.725   \n",
       "461028     144.817000      235.817000          1          6    513.267   \n",
       "461029     235.817000      429.359000          1          6    226.725   \n",
       "461030     157.817000      159.817000          0          0    226.725   \n",
       "461031     447.359000      201.725000          0          0    226.725   \n",
       "\n",
       "        isBestMode  \n",
       "0             True  \n",
       "1             True  \n",
       "2             True  \n",
       "3             True  \n",
       "4             True  \n",
       "...            ...  \n",
       "461027       False  \n",
       "461028       False  \n",
       "461029       False  \n",
       "461030       False  \n",
       "461031       False  \n",
       "\n",
       "[461032 rows x 13 columns]"
      ]
     },
     "execution_count": 4,
     "metadata": {},
     "output_type": "execute_result"
    }
   ],
   "source": [
    "m1_dataset = full_data\n",
    "m1_dataset = m1_dataset.drop(['Frame','coCost','BestMode'], axis=1)\n",
    "m1_dataset = m1_dataset.drop(m1_dataset.loc[:,'MPM1':], axis=1)\n",
    "\n",
    "#Create new features\n",
    "MPM = mod_data.filter(regex='MPM')\n",
    "RMD = mod_data.filter(regex='RMD')\n",
    "\n",
    "def RMD_weight(x):\n",
    "    score = 0\n",
    "    for i in range(8):\n",
    "        if x[i] == 0 or x[i] == 1:\n",
    "            if score <= i:\n",
    "                score = 8-i\n",
    "    return score;\n",
    "\n",
    "def MPM_weight(x):\n",
    "    weight = 0\n",
    "    for i in range(3):\n",
    "        if x[i] == 0 or x[i] == 1:\n",
    "            weight += 1\n",
    "    return weight \n",
    "    \n",
    "m1_dataset['MPMWeight'] = MPM.apply(MPM_weight, axis=1)\n",
    "m1_dataset['RMDWeight'] = RMD.apply(RMD_weight, axis=1)\n",
    "m1_dataset['M1RMDCost'] = mod_data[['Cost0', 'Cost1']].min(axis=1)\n",
    "m1_dataset['isBestMode'] = full_data['BestMode'].apply(lambda x: True if x == 0 or x == 1 else False)\n",
    "for col in m1_dataset:        \n",
    "    m1_dataset[col].fillna(m1_dataset[col].mean(), inplace=True) #fill NaN cells with average value of column  \n",
    "    \n",
    "m1_dataset"
   ]
  },
  {
   "cell_type": "markdown",
   "id": "e9e7dcd5-4552-4fb7-adc0-c5211aca2e5b",
   "metadata": {},
   "source": [
    "# Separação dos modelos"
   ]
  },
  {
   "cell_type": "code",
   "execution_count": 5,
   "id": "30f02fd0-c95c-487f-89d7-a238c9fe2dcc",
   "metadata": {},
   "outputs": [
    {
     "name": "stdout",
     "output_type": "stream",
     "text": [
      "Size of training dataset: 368825, Size of testing dataset: 92207\n"
     ]
    }
   ],
   "source": [
    "from sklearn.model_selection import train_test_split\n",
    "from sklearn.tree import DecisionTreeClassifier\n",
    "\n",
    "\n",
    "train, test = train_test_split(m1_dataset, test_size=0.2)\n",
    "print(f\"Size of training dataset: {len(train)}, Size of testing dataset: {len(test)}\")\n",
    "\n",
    "y_train = train['isBestMode']\n",
    "x_train = train.drop('isBestMode', axis=1)\n",
    "\n",
    "#Do training\n",
    "model = DecisionTreeClassifier(random_state=0, criterion=\"entropy\", max_depth=20)\n",
    "trained_model = model.fit(x_train,y_train)"
   ]
  },
  {
   "cell_type": "code",
   "execution_count": 6,
   "id": "a4678999-a568-4c90-a1c8-863fe3e903af",
   "metadata": {},
   "outputs": [
    {
     "data": {
      "text/plain": [
       "0.47532926130941017"
      ]
     },
     "metadata": {},
     "output_type": "display_data"
    }
   ],
   "source": [
    "count_true = np.count_nonzero(m1_dataset['isBestMode'] == True)\n",
    "count_false = np.count_nonzero(m1_dataset['isBestMode'] == False)\n",
    "\n",
    "display(count_true/(count_true+count_false))"
   ]
  },
  {
   "cell_type": "markdown",
   "id": "e480b4dd-71a5-4cce-a05e-1d4c59130829",
   "metadata": {},
   "source": [
    "# Avaliação"
   ]
  },
  {
   "cell_type": "code",
   "execution_count": 7,
   "id": "ade55669-b4e7-46b6-9177-15897e27d793",
   "metadata": {},
   "outputs": [
    {
     "name": "stdout",
     "output_type": "stream",
     "text": [
      "Model accuracy: 0.9538755192122074\n"
     ]
    },
    {
     "data": {
      "text/plain": [
       "<sklearn.metrics._plot.confusion_matrix.ConfusionMatrixDisplay at 0x7fb8a642d250>"
      ]
     },
     "execution_count": 7,
     "metadata": {},
     "output_type": "execute_result"
    },
    {
     "data": {
      "image/png": "[encoded data removed]",
      "text/plain": [
       "<Figure size 432x288 with 2 Axes>"
      ]
     },
     "metadata": {
      "needs_background": "light"
     },
     "output_type": "display_data"
    }
   ],
   "source": [
    "from sklearn.metrics import accuracy_score\n",
    "from sklearn.metrics import plot_confusion_matrix\n",
    "\n",
    "y_test = test['isBestMode']\n",
    "x_test = test.drop('isBestMode', axis=1)\n",
    "\n",
    "predict = trained_model.predict(x_test)\n",
    "score = accuracy_score(y_test,predict)\n",
    "print(f\"Model accuracy: {score}\")\n",
    "\n",
    "plot_confusion_matrix(trained_model, x_test, y_test)"
   ]
  },
  {
   "cell_type": "code",
   "execution_count": 8,
   "id": "2e663e66-b8ad-4b93-a90d-a7eff9028df4",
   "metadata": {},
   "outputs": [
    {
     "name": "stdout",
     "output_type": "stream",
     "text": [
      "Average Accuracy:  0.8424584604110571\n"
     ]
    }
   ],
   "source": [
    "from sklearn.model_selection import cross_val_score\n",
    "\n",
    "y = m1_dataset['isBestMode']\n",
    "x = m1_dataset.drop('isBestMode', axis=1)\n",
    "\n",
    "scores = cross_val_score(trained_model,x,y,cv=20)\n",
    "print(\"Average Accuracy: \", scores.mean())"
   ]
  },
  {
   "cell_type": "code",
   "execution_count": 9,
   "id": "43bf566b-a94e-4a84-a948-e12e2ea803d3",
   "metadata": {},
   "outputs": [
    {
     "data": {
      "text/plain": [
       "array([0.00630666, 0.00286192, 0.00141533, 0.20785363, 0.00537891,\n",
       "       0.00444521, 0.00473937, 0.00391975, 0.00315582, 0.10582804,\n",
       "       0.49722328, 0.15687208])"
      ]
     },
     "execution_count": 9,
     "metadata": {},
     "output_type": "execute_result"
    }
   ],
   "source": [
    "trained_model.feature_importances_"
   ]
  },
  {
   "cell_type": "code",
   "execution_count": 11,
   "id": "b181437a-c108-444d-8afa-73ec78dd1228",
   "metadata": {},
   "outputs": [
    {
     "data": {
      "text/plain": [
       "['trained_model.pkl']"
      ]
     },
     "execution_count": 11,
     "metadata": {},
     "output_type": "execute_result"
    }
   ],
   "source": [
    "import m2cgen\n",
    "import joblib\n",
    "\n",
    "output = m2cgen.export_to_c(trained_model)\n",
    "joblib.dump(trained_model,\"trained_model.pkl\")"
   ]
  },
  {
   "cell_type": "code",
   "execution_count": 12,
   "id": "4ff779cd-5e95-450d-bcfb-160ec171fc5a",
   "metadata": {},
   "outputs": [
    {
     "data": {
      "text/plain": [
       "<function TextIOWrapper.close()>"
      ]
     },
     "execution_count": 12,
     "metadata": {},
     "output_type": "execute_result"
    }
   ],
   "source": [
    "output_file = open(\"trained_model.c\", \"w\")\n",
    "output_file.write(output)\n",
    "output_file.close"
   ]
  },
  {
   "cell_type": "code",
   "execution_count": null,
   "id": "7eba0617-a4eb-4d8c-9eab-acbfcf08302a",
   "metadata": {},
   "outputs": [],
   "source": []
  }
 ],
 "metadata": {
  "kernelspec": {
   "display_name": "Python 3",
   "language": "python",
   "name": "python3"
  },
  "language_info": {
   "codemirror_mode": {
    "name": "ipython",
    "version": 3
   },
   "file_extension": ".py",
   "mimetype": "text/x-python",
   "name": "python",
   "nbconvert_exporter": "python",
   "pygments_lexer": "ipython3",
   "version": "3.8.5"
  }
 },
 "nbformat": 4,
 "nbformat_minor": 5
}
